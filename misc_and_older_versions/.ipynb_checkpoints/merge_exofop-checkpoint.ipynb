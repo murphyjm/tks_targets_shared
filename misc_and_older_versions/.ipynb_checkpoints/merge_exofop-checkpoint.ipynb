{
 "cells": [
  {
   "cell_type": "code",
   "execution_count": 13,
   "metadata": {},
   "outputs": [],
   "source": [
    "import os\n",
    "import pandas as pd"
   ]
  },
  {
   "cell_type": "code",
   "execution_count": 18,
   "metadata": {},
   "outputs": [],
   "source": [
    "data_folder = 'data/exofop'\n",
    "\n",
    "exofop_1_fname = os.path.join(data_folder, 'exofop_search_2019-10-29_1of2.csv')\n",
    "exofop_2_fname = os.path.join(data_folder, 'exofop_search_2019-10-29_2of2.csv')"
   ]
  },
  {
   "cell_type": "code",
   "execution_count": 19,
   "metadata": {},
   "outputs": [],
   "source": [
    "exo_df1 = pd.read_csv(exofop_1_fname, comment='#')\n",
    "exo_df2 = pd.read_csv(exofop_2_fname, comment='#')"
   ]
  },
  {
   "cell_type": "code",
   "execution_count": 20,
   "metadata": {},
   "outputs": [],
   "source": [
    "exo_df  = pd.concat((exo_df1, exo_df2))"
   ]
  },
  {
   "cell_type": "code",
   "execution_count": 21,
   "metadata": {},
   "outputs": [],
   "source": [
    "exo_df.to_csv(os.path.join(data_folder, 'exofop_search_2019-10-29_combined.csv'))"
   ]
  },
  {
   "cell_type": "code",
   "execution_count": null,
   "metadata": {},
   "outputs": [],
   "source": []
  }
 ],
 "metadata": {
  "kernelspec": {
   "display_name": "Python 3",
   "language": "python",
   "name": "python3"
  },
  "language_info": {
   "codemirror_mode": {
    "name": "ipython",
    "version": 3
   },
   "file_extension": ".py",
   "mimetype": "text/x-python",
   "name": "python",
   "nbconvert_exporter": "python",
   "pygments_lexer": "ipython3",
   "version": "3.6.9"
  }
 },
 "nbformat": 4,
 "nbformat_minor": 2
}
